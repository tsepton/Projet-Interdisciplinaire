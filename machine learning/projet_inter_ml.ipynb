{
 "cells": [
  {
   "cell_type": "code",
   "execution_count": 1,
   "metadata": {},
   "outputs": [],
   "source": [
    "import pandas as pd\n",
    "import matplotlib.pyplot as plt\n",
    "import glob, os"
   ]
  },
  {
   "cell_type": "markdown",
   "metadata": {},
   "source": [
    "# Load data"
   ]
  },
  {
   "cell_type": "code",
   "execution_count": 2,
   "metadata": {},
   "outputs": [],
   "source": [
    "df = pd.concat(map(pd.read_csv, glob.glob(os.path.join(\"data\", \"*.csv\"))))"
   ]
  },
  {
   "cell_type": "markdown",
   "metadata": {},
   "source": [
    "# Check data"
   ]
  },
  {
   "cell_type": "code",
   "execution_count": 3,
   "metadata": {
    "scrolled": true
   },
   "outputs": [
    {
     "data": {
      "text/html": [
       "<div>\n",
       "<style scoped>\n",
       "    .dataframe tbody tr th:only-of-type {\n",
       "        vertical-align: middle;\n",
       "    }\n",
       "\n",
       "    .dataframe tbody tr th {\n",
       "        vertical-align: top;\n",
       "    }\n",
       "\n",
       "    .dataframe thead th {\n",
       "        text-align: right;\n",
       "    }\n",
       "</style>\n",
       "<table border=\"1\" class=\"dataframe\">\n",
       "  <thead>\n",
       "    <tr style=\"text-align: right;\">\n",
       "      <th></th>\n",
       "      <th>transport_type</th>\n",
       "      <th>line</th>\n",
       "      <th>delay</th>\n",
       "      <th>direction</th>\n",
       "      <th>year</th>\n",
       "      <th>month</th>\n",
       "      <th>day</th>\n",
       "      <th>hour</th>\n",
       "      <th>minute</th>\n",
       "      <th>seconds</th>\n",
       "    </tr>\n",
       "  </thead>\n",
       "  <tbody>\n",
       "    <tr>\n",
       "      <th>count</th>\n",
       "      <td>51811.0</td>\n",
       "      <td>51811.000000</td>\n",
       "      <td>40493.00000</td>\n",
       "      <td>40493.000000</td>\n",
       "      <td>51816.0</td>\n",
       "      <td>51816.0</td>\n",
       "      <td>51816.000000</td>\n",
       "      <td>51816.000000</td>\n",
       "      <td>51816.000000</td>\n",
       "      <td>51816.000000</td>\n",
       "    </tr>\n",
       "    <tr>\n",
       "      <th>mean</th>\n",
       "      <td>0.0</td>\n",
       "      <td>54.045241</td>\n",
       "      <td>-1.83165</td>\n",
       "      <td>0.500852</td>\n",
       "      <td>2020.0</td>\n",
       "      <td>11.0</td>\n",
       "      <td>2.490370</td>\n",
       "      <td>11.902733</td>\n",
       "      <td>29.721669</td>\n",
       "      <td>29.668654</td>\n",
       "    </tr>\n",
       "    <tr>\n",
       "      <th>std</th>\n",
       "      <td>0.0</td>\n",
       "      <td>16.720287</td>\n",
       "      <td>6.54958</td>\n",
       "      <td>0.500005</td>\n",
       "      <td>0.0</td>\n",
       "      <td>0.0</td>\n",
       "      <td>1.908235</td>\n",
       "      <td>6.869627</td>\n",
       "      <td>17.302722</td>\n",
       "      <td>17.273376</td>\n",
       "    </tr>\n",
       "    <tr>\n",
       "      <th>min</th>\n",
       "      <td>0.0</td>\n",
       "      <td>39.000000</td>\n",
       "      <td>-54.00000</td>\n",
       "      <td>0.000000</td>\n",
       "      <td>2020.0</td>\n",
       "      <td>11.0</td>\n",
       "      <td>0.000000</td>\n",
       "      <td>0.000000</td>\n",
       "      <td>0.000000</td>\n",
       "      <td>0.000000</td>\n",
       "    </tr>\n",
       "    <tr>\n",
       "      <th>25%</th>\n",
       "      <td>0.0</td>\n",
       "      <td>44.000000</td>\n",
       "      <td>-3.00000</td>\n",
       "      <td>0.000000</td>\n",
       "      <td>2020.0</td>\n",
       "      <td>11.0</td>\n",
       "      <td>1.000000</td>\n",
       "      <td>7.000000</td>\n",
       "      <td>15.000000</td>\n",
       "      <td>15.000000</td>\n",
       "    </tr>\n",
       "    <tr>\n",
       "      <th>50%</th>\n",
       "      <td>0.0</td>\n",
       "      <td>51.000000</td>\n",
       "      <td>0.00000</td>\n",
       "      <td>1.000000</td>\n",
       "      <td>2020.0</td>\n",
       "      <td>11.0</td>\n",
       "      <td>2.000000</td>\n",
       "      <td>12.000000</td>\n",
       "      <td>30.000000</td>\n",
       "      <td>30.000000</td>\n",
       "    </tr>\n",
       "    <tr>\n",
       "      <th>75%</th>\n",
       "      <td>0.0</td>\n",
       "      <td>82.000000</td>\n",
       "      <td>1.00000</td>\n",
       "      <td>1.000000</td>\n",
       "      <td>2020.0</td>\n",
       "      <td>11.0</td>\n",
       "      <td>4.000000</td>\n",
       "      <td>18.000000</td>\n",
       "      <td>45.000000</td>\n",
       "      <td>45.000000</td>\n",
       "    </tr>\n",
       "    <tr>\n",
       "      <th>max</th>\n",
       "      <td>0.0</td>\n",
       "      <td>82.000000</td>\n",
       "      <td>33.00000</td>\n",
       "      <td>1.000000</td>\n",
       "      <td>2020.0</td>\n",
       "      <td>11.0</td>\n",
       "      <td>6.000000</td>\n",
       "      <td>23.000000</td>\n",
       "      <td>59.000000</td>\n",
       "      <td>59.000000</td>\n",
       "    </tr>\n",
       "  </tbody>\n",
       "</table>\n",
       "</div>"
      ],
      "text/plain": [
       "       transport_type          line        delay     direction     year  \\\n",
       "count         51811.0  51811.000000  40493.00000  40493.000000  51816.0   \n",
       "mean              0.0     54.045241     -1.83165      0.500852   2020.0   \n",
       "std               0.0     16.720287      6.54958      0.500005      0.0   \n",
       "min               0.0     39.000000    -54.00000      0.000000   2020.0   \n",
       "25%               0.0     44.000000     -3.00000      0.000000   2020.0   \n",
       "50%               0.0     51.000000      0.00000      1.000000   2020.0   \n",
       "75%               0.0     82.000000      1.00000      1.000000   2020.0   \n",
       "max               0.0     82.000000     33.00000      1.000000   2020.0   \n",
       "\n",
       "         month           day          hour        minute       seconds  \n",
       "count  51816.0  51816.000000  51816.000000  51816.000000  51816.000000  \n",
       "mean      11.0      2.490370     11.902733     29.721669     29.668654  \n",
       "std        0.0      1.908235      6.869627     17.302722     17.273376  \n",
       "min       11.0      0.000000      0.000000      0.000000      0.000000  \n",
       "25%       11.0      1.000000      7.000000     15.000000     15.000000  \n",
       "50%       11.0      2.000000     12.000000     30.000000     30.000000  \n",
       "75%       11.0      4.000000     18.000000     45.000000     45.000000  \n",
       "max       11.0      6.000000     23.000000     59.000000     59.000000  "
      ]
     },
     "execution_count": 3,
     "metadata": {},
     "output_type": "execute_result"
    }
   ],
   "source": [
    "df = df.drop([\"humidity\", \"visibility\", \"wind\", \"rain\", \"temp\"], axis=\"columns\" )\n",
    "df.describe()"
   ]
  },
  {
   "cell_type": "code",
   "execution_count": 4,
   "metadata": {},
   "outputs": [
    {
     "data": {
      "text/html": [
       "<div>\n",
       "<style scoped>\n",
       "    .dataframe tbody tr th:only-of-type {\n",
       "        vertical-align: middle;\n",
       "    }\n",
       "\n",
       "    .dataframe tbody tr th {\n",
       "        vertical-align: top;\n",
       "    }\n",
       "\n",
       "    .dataframe thead th {\n",
       "        text-align: right;\n",
       "    }\n",
       "</style>\n",
       "<table border=\"1\" class=\"dataframe\">\n",
       "  <thead>\n",
       "    <tr style=\"text-align: right;\">\n",
       "      <th></th>\n",
       "      <th>transport_type</th>\n",
       "      <th>stop</th>\n",
       "      <th>line</th>\n",
       "      <th>delay</th>\n",
       "      <th>theoretical_time</th>\n",
       "      <th>expectedArrivalTime</th>\n",
       "      <th>date</th>\n",
       "      <th>direction</th>\n",
       "      <th>year</th>\n",
       "      <th>month</th>\n",
       "      <th>day</th>\n",
       "      <th>hour</th>\n",
       "      <th>minute</th>\n",
       "      <th>seconds</th>\n",
       "    </tr>\n",
       "  </thead>\n",
       "  <tbody>\n",
       "    <tr>\n",
       "      <th>0</th>\n",
       "      <td>0.0</td>\n",
       "      <td>0089</td>\n",
       "      <td>39.0</td>\n",
       "      <td>NaN</td>\n",
       "      <td>NaN</td>\n",
       "      <td>NaN</td>\n",
       "      <td>2020-11-01 23:30:53.024515</td>\n",
       "      <td>NaN</td>\n",
       "      <td>2020</td>\n",
       "      <td>11</td>\n",
       "      <td>6</td>\n",
       "      <td>23</td>\n",
       "      <td>30</td>\n",
       "      <td>53</td>\n",
       "    </tr>\n",
       "    <tr>\n",
       "      <th>1</th>\n",
       "      <td>0.0</td>\n",
       "      <td>0089</td>\n",
       "      <td>44.0</td>\n",
       "      <td>NaN</td>\n",
       "      <td>NaN</td>\n",
       "      <td>NaN</td>\n",
       "      <td>2020-11-01 23:30:53.463017</td>\n",
       "      <td>NaN</td>\n",
       "      <td>2020</td>\n",
       "      <td>11</td>\n",
       "      <td>6</td>\n",
       "      <td>23</td>\n",
       "      <td>30</td>\n",
       "      <td>53</td>\n",
       "    </tr>\n",
       "    <tr>\n",
       "      <th>2</th>\n",
       "      <td>0.0</td>\n",
       "      <td>6608G</td>\n",
       "      <td>51.0</td>\n",
       "      <td>NaN</td>\n",
       "      <td>NaN</td>\n",
       "      <td>NaN</td>\n",
       "      <td>2020-11-01 23:30:55.581937</td>\n",
       "      <td>NaN</td>\n",
       "      <td>2020</td>\n",
       "      <td>11</td>\n",
       "      <td>6</td>\n",
       "      <td>23</td>\n",
       "      <td>30</td>\n",
       "      <td>55</td>\n",
       "    </tr>\n",
       "    <tr>\n",
       "      <th>3</th>\n",
       "      <td>0.0</td>\n",
       "      <td>6608G</td>\n",
       "      <td>82.0</td>\n",
       "      <td>NaN</td>\n",
       "      <td>NaN</td>\n",
       "      <td>NaN</td>\n",
       "      <td>2020-11-01 23:30:57.721204</td>\n",
       "      <td>NaN</td>\n",
       "      <td>2020</td>\n",
       "      <td>11</td>\n",
       "      <td>6</td>\n",
       "      <td>23</td>\n",
       "      <td>30</td>\n",
       "      <td>57</td>\n",
       "    </tr>\n",
       "    <tr>\n",
       "      <th>4</th>\n",
       "      <td>0.0</td>\n",
       "      <td>0089</td>\n",
       "      <td>39.0</td>\n",
       "      <td>NaN</td>\n",
       "      <td>NaN</td>\n",
       "      <td>NaN</td>\n",
       "      <td>2020-11-01 23:31:58.861441</td>\n",
       "      <td>NaN</td>\n",
       "      <td>2020</td>\n",
       "      <td>11</td>\n",
       "      <td>6</td>\n",
       "      <td>23</td>\n",
       "      <td>31</td>\n",
       "      <td>58</td>\n",
       "    </tr>\n",
       "  </tbody>\n",
       "</table>\n",
       "</div>"
      ],
      "text/plain": [
       "   transport_type   stop  line  delay theoretical_time expectedArrivalTime  \\\n",
       "0             0.0   0089  39.0    NaN              NaN                 NaN   \n",
       "1             0.0   0089  44.0    NaN              NaN                 NaN   \n",
       "2             0.0  6608G  51.0    NaN              NaN                 NaN   \n",
       "3             0.0  6608G  82.0    NaN              NaN                 NaN   \n",
       "4             0.0   0089  39.0    NaN              NaN                 NaN   \n",
       "\n",
       "                         date  direction  year  month  day  hour  minute  \\\n",
       "0  2020-11-01 23:30:53.024515        NaN  2020     11    6    23      30   \n",
       "1  2020-11-01 23:30:53.463017        NaN  2020     11    6    23      30   \n",
       "2  2020-11-01 23:30:55.581937        NaN  2020     11    6    23      30   \n",
       "3  2020-11-01 23:30:57.721204        NaN  2020     11    6    23      30   \n",
       "4  2020-11-01 23:31:58.861441        NaN  2020     11    6    23      31   \n",
       "\n",
       "   seconds  \n",
       "0       53  \n",
       "1       53  \n",
       "2       55  \n",
       "3       57  \n",
       "4       58  "
      ]
     },
     "execution_count": 4,
     "metadata": {},
     "output_type": "execute_result"
    }
   ],
   "source": [
    "df.head()"
   ]
  },
  {
   "cell_type": "code",
   "execution_count": 5,
   "metadata": {},
   "outputs": [
    {
     "data": {
      "text/html": [
       "<div>\n",
       "<style scoped>\n",
       "    .dataframe tbody tr th:only-of-type {\n",
       "        vertical-align: middle;\n",
       "    }\n",
       "\n",
       "    .dataframe tbody tr th {\n",
       "        vertical-align: top;\n",
       "    }\n",
       "\n",
       "    .dataframe thead th {\n",
       "        text-align: right;\n",
       "    }\n",
       "</style>\n",
       "<table border=\"1\" class=\"dataframe\">\n",
       "  <thead>\n",
       "    <tr style=\"text-align: right;\">\n",
       "      <th></th>\n",
       "      <th>transport_type</th>\n",
       "      <th>stop</th>\n",
       "      <th>line</th>\n",
       "      <th>delay</th>\n",
       "      <th>theoretical_time</th>\n",
       "      <th>expectedArrivalTime</th>\n",
       "      <th>date</th>\n",
       "      <th>direction</th>\n",
       "      <th>year</th>\n",
       "      <th>month</th>\n",
       "      <th>day</th>\n",
       "      <th>hour</th>\n",
       "      <th>minute</th>\n",
       "      <th>seconds</th>\n",
       "    </tr>\n",
       "  </thead>\n",
       "  <tbody>\n",
       "    <tr>\n",
       "      <th>4639</th>\n",
       "      <td>0.0</td>\n",
       "      <td>6608G</td>\n",
       "      <td>82.0</td>\n",
       "      <td>0.0</td>\n",
       "      <td>2020-11-12 22:11:12</td>\n",
       "      <td>2020-11-12 22:11:00</td>\n",
       "      <td>2020-11-12 22:01:30.803930</td>\n",
       "      <td>1.0</td>\n",
       "      <td>2020</td>\n",
       "      <td>11</td>\n",
       "      <td>3</td>\n",
       "      <td>22</td>\n",
       "      <td>1</td>\n",
       "      <td>30</td>\n",
       "    </tr>\n",
       "    <tr>\n",
       "      <th>4640</th>\n",
       "      <td>0.0</td>\n",
       "      <td>0089</td>\n",
       "      <td>39.0</td>\n",
       "      <td>0.0</td>\n",
       "      <td>2020-11-12 22:09:00</td>\n",
       "      <td>2020-11-12 22:09:00</td>\n",
       "      <td>2020-11-12 22:02:32.539435</td>\n",
       "      <td>0.0</td>\n",
       "      <td>2020</td>\n",
       "      <td>11</td>\n",
       "      <td>3</td>\n",
       "      <td>22</td>\n",
       "      <td>2</td>\n",
       "      <td>32</td>\n",
       "    </tr>\n",
       "    <tr>\n",
       "      <th>4641</th>\n",
       "      <td>0.0</td>\n",
       "      <td>0089</td>\n",
       "      <td>44.0</td>\n",
       "      <td>0.0</td>\n",
       "      <td>2020-11-12 22:19:00</td>\n",
       "      <td>2020-11-12 22:19:00</td>\n",
       "      <td>2020-11-12 22:02:33.021177</td>\n",
       "      <td>0.0</td>\n",
       "      <td>2020</td>\n",
       "      <td>11</td>\n",
       "      <td>3</td>\n",
       "      <td>22</td>\n",
       "      <td>2</td>\n",
       "      <td>33</td>\n",
       "    </tr>\n",
       "    <tr>\n",
       "      <th>4642</th>\n",
       "      <td>0.0</td>\n",
       "      <td>6608G</td>\n",
       "      <td>51.0</td>\n",
       "      <td>-3.0</td>\n",
       "      <td>2020-11-12 22:07:44</td>\n",
       "      <td>2020-11-12 22:10:00</td>\n",
       "      <td>2020-11-12 22:02:34.395244</td>\n",
       "      <td>1.0</td>\n",
       "      <td>2020</td>\n",
       "      <td>11</td>\n",
       "      <td>3</td>\n",
       "      <td>22</td>\n",
       "      <td>2</td>\n",
       "      <td>34</td>\n",
       "    </tr>\n",
       "    <tr>\n",
       "      <th>4643</th>\n",
       "      <td>0.0</td>\n",
       "      <td>6608G</td>\n",
       "      <td>82.0</td>\n",
       "      <td>-1.0</td>\n",
       "      <td>2020-11-12 22:11:12</td>\n",
       "      <td>2020-11-12 22:12:00</td>\n",
       "      <td>2020-11-12 22:02:36.213043</td>\n",
       "      <td>1.0</td>\n",
       "      <td>2020</td>\n",
       "      <td>11</td>\n",
       "      <td>3</td>\n",
       "      <td>22</td>\n",
       "      <td>2</td>\n",
       "      <td>36</td>\n",
       "    </tr>\n",
       "  </tbody>\n",
       "</table>\n",
       "</div>"
      ],
      "text/plain": [
       "      transport_type   stop  line  delay     theoretical_time  \\\n",
       "4639             0.0  6608G  82.0    0.0  2020-11-12 22:11:12   \n",
       "4640             0.0   0089  39.0    0.0  2020-11-12 22:09:00   \n",
       "4641             0.0   0089  44.0    0.0  2020-11-12 22:19:00   \n",
       "4642             0.0  6608G  51.0   -3.0  2020-11-12 22:07:44   \n",
       "4643             0.0  6608G  82.0   -1.0  2020-11-12 22:11:12   \n",
       "\n",
       "      expectedArrivalTime                        date  direction  year  month  \\\n",
       "4639  2020-11-12 22:11:00  2020-11-12 22:01:30.803930        1.0  2020     11   \n",
       "4640  2020-11-12 22:09:00  2020-11-12 22:02:32.539435        0.0  2020     11   \n",
       "4641  2020-11-12 22:19:00  2020-11-12 22:02:33.021177        0.0  2020     11   \n",
       "4642  2020-11-12 22:10:00  2020-11-12 22:02:34.395244        1.0  2020     11   \n",
       "4643  2020-11-12 22:12:00  2020-11-12 22:02:36.213043        1.0  2020     11   \n",
       "\n",
       "      day  hour  minute  seconds  \n",
       "4639    3    22       1       30  \n",
       "4640    3    22       2       32  \n",
       "4641    3    22       2       33  \n",
       "4642    3    22       2       34  \n",
       "4643    3    22       2       36  "
      ]
     },
     "execution_count": 5,
     "metadata": {},
     "output_type": "execute_result"
    }
   ],
   "source": [
    "df.tail()"
   ]
  },
  {
   "cell_type": "code",
   "execution_count": 6,
   "metadata": {},
   "outputs": [
    {
     "data": {
      "text/plain": [
       "(51816, 14)"
      ]
     },
     "execution_count": 6,
     "metadata": {},
     "output_type": "execute_result"
    }
   ],
   "source": [
    "df.shape"
   ]
  },
  {
   "cell_type": "code",
   "execution_count": 7,
   "metadata": {},
   "outputs": [
    {
     "name": "stdout",
     "output_type": "stream",
     "text": [
      "<class 'pandas.core.frame.DataFrame'>\n",
      "Int64Index: 51816 entries, 0 to 4643\n",
      "Data columns (total 14 columns):\n",
      " #   Column               Non-Null Count  Dtype  \n",
      "---  ------               --------------  -----  \n",
      " 0   transport_type       51811 non-null  float64\n",
      " 1   stop                 51811 non-null  object \n",
      " 2   line                 51811 non-null  float64\n",
      " 3   delay                40493 non-null  float64\n",
      " 4   theoretical_time     40493 non-null  object \n",
      " 5   expectedArrivalTime  40493 non-null  object \n",
      " 6   date                 51816 non-null  object \n",
      " 7   direction            40493 non-null  float64\n",
      " 8   year                 51816 non-null  int64  \n",
      " 9   month                51816 non-null  int64  \n",
      " 10  day                  51816 non-null  int64  \n",
      " 11  hour                 51816 non-null  int64  \n",
      " 12  minute               51816 non-null  int64  \n",
      " 13  seconds              51816 non-null  int64  \n",
      "dtypes: float64(4), int64(6), object(4)\n",
      "memory usage: 5.9+ MB\n"
     ]
    }
   ],
   "source": [
    "df.info()"
   ]
  },
  {
   "cell_type": "code",
   "execution_count": 8,
   "metadata": {},
   "outputs": [
    {
     "data": {
      "text/plain": [
       " 0.0     11096\n",
       " 1.0      5473\n",
       "-1.0      3219\n",
       "-2.0      2526\n",
       " 2.0      1884\n",
       "         ...  \n",
       " 25.0        1\n",
       " 33.0        1\n",
       "-38.0        1\n",
       "-53.0        1\n",
       " 26.0        1\n",
       "Name: delay, Length: 80, dtype: int64"
      ]
     },
     "execution_count": 8,
     "metadata": {},
     "output_type": "execute_result"
    }
   ],
   "source": [
    "df[\"delay\"].value_counts()"
   ]
  },
  {
   "cell_type": "markdown",
   "metadata": {},
   "source": [
    "# Modify data"
   ]
  },
  {
   "cell_type": "code",
   "execution_count": 9,
   "metadata": {},
   "outputs": [],
   "source": [
    "# remove NaN values\n",
    "df = df.dropna(how=\"any\")"
   ]
  },
  {
   "cell_type": "code",
   "execution_count": 10,
   "metadata": {},
   "outputs": [],
   "source": [
    "# change stop id into numerical value\n",
    "df[\"stop\"] = df[\"stop\"].astype(\"category\")\n",
    "df[\"stop\"] = df[\"stop\"].cat.reorder_categories([\"6608G\", \"0089\"], ordered=False)\n",
    "df[\"stop\"] = df[\"stop\"].cat.codes"
   ]
  },
  {
   "cell_type": "code",
   "execution_count": 11,
   "metadata": {},
   "outputs": [
    {
     "data": {
      "text/html": [
       "<div>\n",
       "<style scoped>\n",
       "    .dataframe tbody tr th:only-of-type {\n",
       "        vertical-align: middle;\n",
       "    }\n",
       "\n",
       "    .dataframe tbody tr th {\n",
       "        vertical-align: top;\n",
       "    }\n",
       "\n",
       "    .dataframe thead th {\n",
       "        text-align: right;\n",
       "    }\n",
       "</style>\n",
       "<table border=\"1\" class=\"dataframe\">\n",
       "  <thead>\n",
       "    <tr style=\"text-align: right;\">\n",
       "      <th></th>\n",
       "      <th>transport_type</th>\n",
       "      <th>stop</th>\n",
       "      <th>line</th>\n",
       "      <th>delay</th>\n",
       "      <th>theoretical_time</th>\n",
       "      <th>expectedArrivalTime</th>\n",
       "      <th>date</th>\n",
       "      <th>direction</th>\n",
       "      <th>year</th>\n",
       "      <th>month</th>\n",
       "      <th>day</th>\n",
       "      <th>hour</th>\n",
       "      <th>minute</th>\n",
       "      <th>seconds</th>\n",
       "    </tr>\n",
       "  </thead>\n",
       "  <tbody>\n",
       "    <tr>\n",
       "      <th>728</th>\n",
       "      <td>0.0</td>\n",
       "      <td>0</td>\n",
       "      <td>51.0</td>\n",
       "      <td>0.0</td>\n",
       "      <td>2020-11-02 05:07:44</td>\n",
       "      <td>2020-11-02 05:07:00</td>\n",
       "      <td>2020-11-02 04:48:15.396895</td>\n",
       "      <td>1.0</td>\n",
       "      <td>2020</td>\n",
       "      <td>11</td>\n",
       "      <td>0</td>\n",
       "      <td>4</td>\n",
       "      <td>48</td>\n",
       "      <td>15</td>\n",
       "    </tr>\n",
       "    <tr>\n",
       "      <th>729</th>\n",
       "      <td>0.0</td>\n",
       "      <td>0</td>\n",
       "      <td>51.0</td>\n",
       "      <td>0.0</td>\n",
       "      <td>2020-11-02 05:07:44</td>\n",
       "      <td>2020-11-02 05:07:00</td>\n",
       "      <td>2020-11-02 04:49:18.154437</td>\n",
       "      <td>1.0</td>\n",
       "      <td>2020</td>\n",
       "      <td>11</td>\n",
       "      <td>0</td>\n",
       "      <td>4</td>\n",
       "      <td>49</td>\n",
       "      <td>18</td>\n",
       "    </tr>\n",
       "    <tr>\n",
       "      <th>730</th>\n",
       "      <td>0.0</td>\n",
       "      <td>0</td>\n",
       "      <td>51.0</td>\n",
       "      <td>0.0</td>\n",
       "      <td>2020-11-02 05:07:44</td>\n",
       "      <td>2020-11-02 05:07:00</td>\n",
       "      <td>2020-11-02 04:50:20.865576</td>\n",
       "      <td>1.0</td>\n",
       "      <td>2020</td>\n",
       "      <td>11</td>\n",
       "      <td>0</td>\n",
       "      <td>4</td>\n",
       "      <td>50</td>\n",
       "      <td>20</td>\n",
       "    </tr>\n",
       "    <tr>\n",
       "      <th>731</th>\n",
       "      <td>0.0</td>\n",
       "      <td>0</td>\n",
       "      <td>51.0</td>\n",
       "      <td>0.0</td>\n",
       "      <td>2020-11-02 05:07:44</td>\n",
       "      <td>2020-11-02 05:07:00</td>\n",
       "      <td>2020-11-02 04:51:23.586660</td>\n",
       "      <td>1.0</td>\n",
       "      <td>2020</td>\n",
       "      <td>11</td>\n",
       "      <td>0</td>\n",
       "      <td>4</td>\n",
       "      <td>51</td>\n",
       "      <td>23</td>\n",
       "    </tr>\n",
       "    <tr>\n",
       "      <th>732</th>\n",
       "      <td>0.0</td>\n",
       "      <td>0</td>\n",
       "      <td>51.0</td>\n",
       "      <td>0.0</td>\n",
       "      <td>2020-11-02 05:07:44</td>\n",
       "      <td>2020-11-02 05:07:00</td>\n",
       "      <td>2020-11-02 04:52:26.336477</td>\n",
       "      <td>1.0</td>\n",
       "      <td>2020</td>\n",
       "      <td>11</td>\n",
       "      <td>0</td>\n",
       "      <td>4</td>\n",
       "      <td>52</td>\n",
       "      <td>26</td>\n",
       "    </tr>\n",
       "  </tbody>\n",
       "</table>\n",
       "</div>"
      ],
      "text/plain": [
       "     transport_type  stop  line  delay     theoretical_time  \\\n",
       "728             0.0     0  51.0    0.0  2020-11-02 05:07:44   \n",
       "729             0.0     0  51.0    0.0  2020-11-02 05:07:44   \n",
       "730             0.0     0  51.0    0.0  2020-11-02 05:07:44   \n",
       "731             0.0     0  51.0    0.0  2020-11-02 05:07:44   \n",
       "732             0.0     0  51.0    0.0  2020-11-02 05:07:44   \n",
       "\n",
       "     expectedArrivalTime                        date  direction  year  month  \\\n",
       "728  2020-11-02 05:07:00  2020-11-02 04:48:15.396895        1.0  2020     11   \n",
       "729  2020-11-02 05:07:00  2020-11-02 04:49:18.154437        1.0  2020     11   \n",
       "730  2020-11-02 05:07:00  2020-11-02 04:50:20.865576        1.0  2020     11   \n",
       "731  2020-11-02 05:07:00  2020-11-02 04:51:23.586660        1.0  2020     11   \n",
       "732  2020-11-02 05:07:00  2020-11-02 04:52:26.336477        1.0  2020     11   \n",
       "\n",
       "     day  hour  minute  seconds  \n",
       "728    0     4      48       15  \n",
       "729    0     4      49       18  \n",
       "730    0     4      50       20  \n",
       "731    0     4      51       23  \n",
       "732    0     4      52       26  "
      ]
     },
     "execution_count": 11,
     "metadata": {},
     "output_type": "execute_result"
    }
   ],
   "source": [
    "df.head()"
   ]
  },
  {
   "cell_type": "code",
   "execution_count": 12,
   "metadata": {},
   "outputs": [
    {
     "data": {
      "text/html": [
       "<div>\n",
       "<style scoped>\n",
       "    .dataframe tbody tr th:only-of-type {\n",
       "        vertical-align: middle;\n",
       "    }\n",
       "\n",
       "    .dataframe tbody tr th {\n",
       "        vertical-align: top;\n",
       "    }\n",
       "\n",
       "    .dataframe thead th {\n",
       "        text-align: right;\n",
       "    }\n",
       "</style>\n",
       "<table border=\"1\" class=\"dataframe\">\n",
       "  <thead>\n",
       "    <tr style=\"text-align: right;\">\n",
       "      <th></th>\n",
       "      <th>transport_type</th>\n",
       "      <th>stop</th>\n",
       "      <th>line</th>\n",
       "      <th>delay</th>\n",
       "      <th>theoretical_time</th>\n",
       "      <th>expectedArrivalTime</th>\n",
       "      <th>date</th>\n",
       "      <th>direction</th>\n",
       "      <th>year</th>\n",
       "      <th>month</th>\n",
       "      <th>day</th>\n",
       "      <th>hour</th>\n",
       "      <th>minute</th>\n",
       "      <th>seconds</th>\n",
       "    </tr>\n",
       "  </thead>\n",
       "  <tbody>\n",
       "    <tr>\n",
       "      <th>4639</th>\n",
       "      <td>0.0</td>\n",
       "      <td>0</td>\n",
       "      <td>82.0</td>\n",
       "      <td>0.0</td>\n",
       "      <td>2020-11-12 22:11:12</td>\n",
       "      <td>2020-11-12 22:11:00</td>\n",
       "      <td>2020-11-12 22:01:30.803930</td>\n",
       "      <td>1.0</td>\n",
       "      <td>2020</td>\n",
       "      <td>11</td>\n",
       "      <td>3</td>\n",
       "      <td>22</td>\n",
       "      <td>1</td>\n",
       "      <td>30</td>\n",
       "    </tr>\n",
       "    <tr>\n",
       "      <th>4640</th>\n",
       "      <td>0.0</td>\n",
       "      <td>1</td>\n",
       "      <td>39.0</td>\n",
       "      <td>0.0</td>\n",
       "      <td>2020-11-12 22:09:00</td>\n",
       "      <td>2020-11-12 22:09:00</td>\n",
       "      <td>2020-11-12 22:02:32.539435</td>\n",
       "      <td>0.0</td>\n",
       "      <td>2020</td>\n",
       "      <td>11</td>\n",
       "      <td>3</td>\n",
       "      <td>22</td>\n",
       "      <td>2</td>\n",
       "      <td>32</td>\n",
       "    </tr>\n",
       "    <tr>\n",
       "      <th>4641</th>\n",
       "      <td>0.0</td>\n",
       "      <td>1</td>\n",
       "      <td>44.0</td>\n",
       "      <td>0.0</td>\n",
       "      <td>2020-11-12 22:19:00</td>\n",
       "      <td>2020-11-12 22:19:00</td>\n",
       "      <td>2020-11-12 22:02:33.021177</td>\n",
       "      <td>0.0</td>\n",
       "      <td>2020</td>\n",
       "      <td>11</td>\n",
       "      <td>3</td>\n",
       "      <td>22</td>\n",
       "      <td>2</td>\n",
       "      <td>33</td>\n",
       "    </tr>\n",
       "    <tr>\n",
       "      <th>4642</th>\n",
       "      <td>0.0</td>\n",
       "      <td>0</td>\n",
       "      <td>51.0</td>\n",
       "      <td>-3.0</td>\n",
       "      <td>2020-11-12 22:07:44</td>\n",
       "      <td>2020-11-12 22:10:00</td>\n",
       "      <td>2020-11-12 22:02:34.395244</td>\n",
       "      <td>1.0</td>\n",
       "      <td>2020</td>\n",
       "      <td>11</td>\n",
       "      <td>3</td>\n",
       "      <td>22</td>\n",
       "      <td>2</td>\n",
       "      <td>34</td>\n",
       "    </tr>\n",
       "    <tr>\n",
       "      <th>4643</th>\n",
       "      <td>0.0</td>\n",
       "      <td>0</td>\n",
       "      <td>82.0</td>\n",
       "      <td>-1.0</td>\n",
       "      <td>2020-11-12 22:11:12</td>\n",
       "      <td>2020-11-12 22:12:00</td>\n",
       "      <td>2020-11-12 22:02:36.213043</td>\n",
       "      <td>1.0</td>\n",
       "      <td>2020</td>\n",
       "      <td>11</td>\n",
       "      <td>3</td>\n",
       "      <td>22</td>\n",
       "      <td>2</td>\n",
       "      <td>36</td>\n",
       "    </tr>\n",
       "  </tbody>\n",
       "</table>\n",
       "</div>"
      ],
      "text/plain": [
       "      transport_type  stop  line  delay     theoretical_time  \\\n",
       "4639             0.0     0  82.0    0.0  2020-11-12 22:11:12   \n",
       "4640             0.0     1  39.0    0.0  2020-11-12 22:09:00   \n",
       "4641             0.0     1  44.0    0.0  2020-11-12 22:19:00   \n",
       "4642             0.0     0  51.0   -3.0  2020-11-12 22:07:44   \n",
       "4643             0.0     0  82.0   -1.0  2020-11-12 22:11:12   \n",
       "\n",
       "      expectedArrivalTime                        date  direction  year  month  \\\n",
       "4639  2020-11-12 22:11:00  2020-11-12 22:01:30.803930        1.0  2020     11   \n",
       "4640  2020-11-12 22:09:00  2020-11-12 22:02:32.539435        0.0  2020     11   \n",
       "4641  2020-11-12 22:19:00  2020-11-12 22:02:33.021177        0.0  2020     11   \n",
       "4642  2020-11-12 22:10:00  2020-11-12 22:02:34.395244        1.0  2020     11   \n",
       "4643  2020-11-12 22:12:00  2020-11-12 22:02:36.213043        1.0  2020     11   \n",
       "\n",
       "      day  hour  minute  seconds  \n",
       "4639    3    22       1       30  \n",
       "4640    3    22       2       32  \n",
       "4641    3    22       2       33  \n",
       "4642    3    22       2       34  \n",
       "4643    3    22       2       36  "
      ]
     },
     "execution_count": 12,
     "metadata": {},
     "output_type": "execute_result"
    }
   ],
   "source": [
    "df.tail()"
   ]
  },
  {
   "cell_type": "code",
   "execution_count": 13,
   "metadata": {},
   "outputs": [],
   "source": [
    "df = df.drop([\"theoretical_time\", \"expectedArrivalTime\", \"date\", \"transport_type\"], axis=\"columns\")"
   ]
  },
  {
   "cell_type": "code",
   "execution_count": 14,
   "metadata": {},
   "outputs": [
    {
     "data": {
      "text/html": [
       "<div>\n",
       "<style scoped>\n",
       "    .dataframe tbody tr th:only-of-type {\n",
       "        vertical-align: middle;\n",
       "    }\n",
       "\n",
       "    .dataframe tbody tr th {\n",
       "        vertical-align: top;\n",
       "    }\n",
       "\n",
       "    .dataframe thead th {\n",
       "        text-align: right;\n",
       "    }\n",
       "</style>\n",
       "<table border=\"1\" class=\"dataframe\">\n",
       "  <thead>\n",
       "    <tr style=\"text-align: right;\">\n",
       "      <th></th>\n",
       "      <th>stop</th>\n",
       "      <th>line</th>\n",
       "      <th>delay</th>\n",
       "      <th>direction</th>\n",
       "      <th>year</th>\n",
       "      <th>month</th>\n",
       "      <th>day</th>\n",
       "      <th>hour</th>\n",
       "      <th>minute</th>\n",
       "      <th>seconds</th>\n",
       "    </tr>\n",
       "  </thead>\n",
       "  <tbody>\n",
       "    <tr>\n",
       "      <th>728</th>\n",
       "      <td>0</td>\n",
       "      <td>51.0</td>\n",
       "      <td>0.0</td>\n",
       "      <td>1.0</td>\n",
       "      <td>2020</td>\n",
       "      <td>11</td>\n",
       "      <td>0</td>\n",
       "      <td>4</td>\n",
       "      <td>48</td>\n",
       "      <td>15</td>\n",
       "    </tr>\n",
       "    <tr>\n",
       "      <th>729</th>\n",
       "      <td>0</td>\n",
       "      <td>51.0</td>\n",
       "      <td>0.0</td>\n",
       "      <td>1.0</td>\n",
       "      <td>2020</td>\n",
       "      <td>11</td>\n",
       "      <td>0</td>\n",
       "      <td>4</td>\n",
       "      <td>49</td>\n",
       "      <td>18</td>\n",
       "    </tr>\n",
       "    <tr>\n",
       "      <th>730</th>\n",
       "      <td>0</td>\n",
       "      <td>51.0</td>\n",
       "      <td>0.0</td>\n",
       "      <td>1.0</td>\n",
       "      <td>2020</td>\n",
       "      <td>11</td>\n",
       "      <td>0</td>\n",
       "      <td>4</td>\n",
       "      <td>50</td>\n",
       "      <td>20</td>\n",
       "    </tr>\n",
       "    <tr>\n",
       "      <th>731</th>\n",
       "      <td>0</td>\n",
       "      <td>51.0</td>\n",
       "      <td>0.0</td>\n",
       "      <td>1.0</td>\n",
       "      <td>2020</td>\n",
       "      <td>11</td>\n",
       "      <td>0</td>\n",
       "      <td>4</td>\n",
       "      <td>51</td>\n",
       "      <td>23</td>\n",
       "    </tr>\n",
       "    <tr>\n",
       "      <th>732</th>\n",
       "      <td>0</td>\n",
       "      <td>51.0</td>\n",
       "      <td>0.0</td>\n",
       "      <td>1.0</td>\n",
       "      <td>2020</td>\n",
       "      <td>11</td>\n",
       "      <td>0</td>\n",
       "      <td>4</td>\n",
       "      <td>52</td>\n",
       "      <td>26</td>\n",
       "    </tr>\n",
       "  </tbody>\n",
       "</table>\n",
       "</div>"
      ],
      "text/plain": [
       "     stop  line  delay  direction  year  month  day  hour  minute  seconds\n",
       "728     0  51.0    0.0        1.0  2020     11    0     4      48       15\n",
       "729     0  51.0    0.0        1.0  2020     11    0     4      49       18\n",
       "730     0  51.0    0.0        1.0  2020     11    0     4      50       20\n",
       "731     0  51.0    0.0        1.0  2020     11    0     4      51       23\n",
       "732     0  51.0    0.0        1.0  2020     11    0     4      52       26"
      ]
     },
     "execution_count": 14,
     "metadata": {},
     "output_type": "execute_result"
    }
   ],
   "source": [
    "df.head()"
   ]
  },
  {
   "cell_type": "markdown",
   "metadata": {},
   "source": [
    "# Creating models"
   ]
  },
  {
   "cell_type": "code",
   "execution_count": 15,
   "metadata": {},
   "outputs": [],
   "source": [
    "from sklearn.linear_model import LinearRegression\n",
    "from sklearn.metrics import mean_squared_error, r2_score\n",
    "from sklearn.model_selection import train_test_split"
   ]
  },
  {
   "cell_type": "markdown",
   "metadata": {},
   "source": [
    "### Spliting data in train test"
   ]
  },
  {
   "cell_type": "code",
   "execution_count": 16,
   "metadata": {},
   "outputs": [],
   "source": [
    "X = df.drop(\"delay\", axis=\"columns\")\n",
    "y = df[\"delay\"]\n",
    "\n",
    "X_train, X_test, y_train, y_test = train_test_split(X, y, test_size=0.20, random_state=42)"
   ]
  },
  {
   "cell_type": "markdown",
   "metadata": {},
   "source": [
    "### Linear regression"
   ]
  },
  {
   "cell_type": "code",
   "execution_count": 17,
   "metadata": {},
   "outputs": [
    {
     "data": {
      "text/plain": [
       "LinearRegression()"
      ]
     },
     "execution_count": 17,
     "metadata": {},
     "output_type": "execute_result"
    }
   ],
   "source": [
    "regr = LinearRegression()\n",
    "regr.fit(X_train, y_train)"
   ]
  },
  {
   "cell_type": "code",
   "execution_count": 18,
   "metadata": {},
   "outputs": [],
   "source": [
    "y_pred_test = regr.predict(X_test)"
   ]
  },
  {
   "cell_type": "code",
   "execution_count": 19,
   "metadata": {},
   "outputs": [],
   "source": [
    "# todo compare test and train"
   ]
  },
  {
   "cell_type": "code",
   "execution_count": 20,
   "metadata": {},
   "outputs": [
    {
     "name": "stdout",
     "output_type": "stream",
     "text": [
      "Coefficients: \n",
      " [-2.12809434e+12  2.34587831e-02 -2.12809434e+12  5.59454036e+09\n",
      " -7.77606958e+10  9.64312835e-02  8.16926857e-02  6.39572161e-03\n",
      " -1.53738579e-02]\n",
      "Mean squared error: 41.46\n",
      "Coefficient of determination: 0.00\n"
     ]
    }
   ],
   "source": [
    "# The coefficients\n",
    "print('Coefficients: \\n', regr.coef_)\n",
    "# The mean squared error\n",
    "print('Mean squared error: %.2f'\n",
    "      % mean_squared_error(y_test, y_pred_test))\n",
    "# The coefficient of determination: 1 is perfect prediction\n",
    "print('Coefficient of determination: %.2f'\n",
    "      % r2_score(y_test, y_pred_test))"
   ]
  },
  {
   "cell_type": "markdown",
   "metadata": {},
   "source": [
    "### MLPRegressor"
   ]
  },
  {
   "cell_type": "code",
   "execution_count": 21,
   "metadata": {},
   "outputs": [],
   "source": [
    "from sklearn.neural_network import MLPRegressor"
   ]
  },
  {
   "cell_type": "code",
   "execution_count": 22,
   "metadata": {},
   "outputs": [
    {
     "data": {
      "text/plain": [
       "0.003462023287257532"
      ]
     },
     "execution_count": 22,
     "metadata": {},
     "output_type": "execute_result"
    }
   ],
   "source": [
    "mlp_regr = MLPRegressor(random_state=1, max_iter=500).fit(X_train, y_train)\n",
    "pred = mlp_regr.predict(X_test)\n",
    "mlp_regr.score(X_test, y_test)"
   ]
  },
  {
   "cell_type": "markdown",
   "metadata": {},
   "source": [
    "### Decision tree"
   ]
  },
  {
   "cell_type": "code",
   "execution_count": 23,
   "metadata": {},
   "outputs": [
    {
     "data": {
      "text/plain": [
       "DecisionTreeRegressor(random_state=1)"
      ]
     },
     "execution_count": 23,
     "metadata": {},
     "output_type": "execute_result"
    }
   ],
   "source": [
    "from sklearn.tree import DecisionTreeRegressor\n",
    "\n",
    "dtr = DecisionTreeRegressor(random_state=1)\n",
    "dtr.fit(X_train, y_train)"
   ]
  },
  {
   "cell_type": "code",
   "execution_count": 24,
   "metadata": {},
   "outputs": [],
   "source": [
    "pred = dtr.predict(X_test)"
   ]
  },
  {
   "cell_type": "code",
   "execution_count": 25,
   "metadata": {},
   "outputs": [
    {
     "name": "stdout",
     "output_type": "stream",
     "text": [
      "-0.43556749182141763\n"
     ]
    }
   ],
   "source": [
    "score = dtr.score(X_test, y_test)\n",
    "print(score)"
   ]
  },
  {
   "cell_type": "markdown",
   "metadata": {},
   "source": [
    "### Cross validation"
   ]
  },
  {
   "cell_type": "code",
   "execution_count": 26,
   "metadata": {},
   "outputs": [],
   "source": [
    "from sklearn.model_selection import cross_val_score"
   ]
  },
  {
   "cell_type": "code",
   "execution_count": 27,
   "metadata": {},
   "outputs": [],
   "source": [
    "regr_score = cross_val_score(regr, X, y, scoring=\"neg_mean_squared_error\", cv=5)\n",
    "dt_score = cross_val_score(dtr, X, y, scoring=\"neg_mean_squared_error\", cv=5)\n",
    "mlp_regr_score = cross_val_score(mlp_regr, X, y, scoring=\"neg_mean_squared_error\", cv=5)"
   ]
  },
  {
   "cell_type": "code",
   "execution_count": 28,
   "metadata": {},
   "outputs": [
    {
     "name": "stdout",
     "output_type": "stream",
     "text": [
      "[-38.58478664 -27.71369873 -46.62925786 -31.49942483 -74.28112467]\n"
     ]
    }
   ],
   "source": [
    "print(regr_score)"
   ]
  },
  {
   "cell_type": "code",
   "execution_count": 29,
   "metadata": {},
   "outputs": [
    {
     "name": "stdout",
     "output_type": "stream",
     "text": [
      "[ -72.63205334  -63.4110384   -80.21755772  -67.45999012 -101.36718943]\n"
     ]
    }
   ],
   "source": [
    "print(dt_score)"
   ]
  },
  {
   "cell_type": "code",
   "execution_count": 30,
   "metadata": {},
   "outputs": [
    {
     "name": "stdout",
     "output_type": "stream",
     "text": [
      "[-38.72334063 -28.93509214 -47.247441   -30.66773057 -78.78860899]\n"
     ]
    }
   ],
   "source": [
    "print(mlp_regr_score)"
   ]
  }
 ],
 "metadata": {
  "kernelspec": {
   "display_name": "Python 3",
   "language": "python",
   "name": "python3"
  },
  "language_info": {
   "codemirror_mode": {
    "name": "ipython",
    "version": 3
   },
   "file_extension": ".py",
   "mimetype": "text/x-python",
   "name": "python",
   "nbconvert_exporter": "python",
   "pygments_lexer": "ipython3",
   "version": "3.8.3"
  }
 },
 "nbformat": 4,
 "nbformat_minor": 4
}
